{
 "cells": [
  {
   "cell_type": "markdown",
   "id": "9ba30646",
   "metadata": {},
   "source": [
    "## Iteration Protocols"
   ]
  },
  {
   "cell_type": "code",
   "execution_count": 5,
   "id": "5461ebc7",
   "metadata": {},
   "outputs": [
    {
     "name": "stdout",
     "output_type": "stream",
     "text": [
      "<class 'list'>\n"
     ]
    }
   ],
   "source": [
    "iterable = ['Spring', 'Summer', 'Autumn', 'Winter']\n",
    "print(type(iterable))"
   ]
  },
  {
   "cell_type": "code",
   "execution_count": 6,
   "id": "78ad0c2b",
   "metadata": {},
   "outputs": [
    {
     "name": "stdout",
     "output_type": "stream",
     "text": [
      "<class 'list_iterator'>\n"
     ]
    }
   ],
   "source": [
    "iterator = iter(iterable)\n",
    "print(type(iterator))"
   ]
  },
  {
   "cell_type": "code",
   "execution_count": 7,
   "id": "8da08ce1",
   "metadata": {},
   "outputs": [
    {
     "data": {
      "text/plain": [
       "'Spring'"
      ]
     },
     "execution_count": 7,
     "metadata": {},
     "output_type": "execute_result"
    }
   ],
   "source": [
    "next(iterator)"
   ]
  },
  {
   "cell_type": "code",
   "execution_count": 8,
   "id": "69b0defe",
   "metadata": {},
   "outputs": [
    {
     "data": {
      "text/plain": [
       "'Summer'"
      ]
     },
     "execution_count": 8,
     "metadata": {},
     "output_type": "execute_result"
    }
   ],
   "source": [
    "next(iterator)"
   ]
  },
  {
   "cell_type": "code",
   "execution_count": 9,
   "id": "9d1077fa",
   "metadata": {},
   "outputs": [
    {
     "data": {
      "text/plain": [
       "'Autumn'"
      ]
     },
     "execution_count": 9,
     "metadata": {},
     "output_type": "execute_result"
    }
   ],
   "source": [
    "next(iterator)"
   ]
  },
  {
   "cell_type": "code",
   "execution_count": 10,
   "id": "9ad6a593",
   "metadata": {},
   "outputs": [
    {
     "data": {
      "text/plain": [
       "'Winter'"
      ]
     },
     "execution_count": 10,
     "metadata": {},
     "output_type": "execute_result"
    }
   ],
   "source": [
    "next(iterator)"
   ]
  },
  {
   "cell_type": "code",
   "execution_count": 12,
   "id": "8a99dd76",
   "metadata": {},
   "outputs": [
    {
     "ename": "StopIteration",
     "evalue": "",
     "output_type": "error",
     "traceback": [
      "\u001b[1;31m---------------------------------------------------------------------------\u001b[0m",
      "\u001b[1;31mStopIteration\u001b[0m                             Traceback (most recent call last)",
      "\u001b[1;32m<ipython-input-12-11ed0d8f56af>\u001b[0m in \u001b[0;36m<module>\u001b[1;34m\u001b[0m\n\u001b[0;32m      1\u001b[0m \u001b[1;31m# after the last element, StopIteration exception is raised\u001b[0m\u001b[1;33m\u001b[0m\u001b[1;33m\u001b[0m\u001b[1;33m\u001b[0m\u001b[0m\n\u001b[1;32m----> 2\u001b[1;33m \u001b[0mnext\u001b[0m\u001b[1;33m(\u001b[0m\u001b[0miterator\u001b[0m\u001b[1;33m)\u001b[0m\u001b[1;33m\u001b[0m\u001b[1;33m\u001b[0m\u001b[0m\n\u001b[0m",
      "\u001b[1;31mStopIteration\u001b[0m: "
     ]
    }
   ],
   "source": [
    "# after the last element, StopIteration exception is raised\n",
    "next(iterator)"
   ]
  },
  {
   "cell_type": "markdown",
   "id": "b014f5e4",
   "metadata": {},
   "source": [
    "### Simple usage"
   ]
  },
  {
   "cell_type": "code",
   "execution_count": 13,
   "id": "48d6b187",
   "metadata": {},
   "outputs": [],
   "source": [
    "def first(iterable):\n",
    "    iterator = iter(iterable)\n",
    "    try:\n",
    "        return next(iterator)\n",
    "    except StopIteration:\n",
    "        return \"Your iterable is empty :(\""
   ]
  },
  {
   "cell_type": "code",
   "execution_count": 14,
   "id": "0146f82c",
   "metadata": {},
   "outputs": [
    {
     "data": {
      "text/plain": [
       "10"
      ]
     },
     "execution_count": 14,
     "metadata": {},
     "output_type": "execute_result"
    }
   ],
   "source": [
    "first([10, 9, 8])"
   ]
  },
  {
   "cell_type": "code",
   "execution_count": 17,
   "id": "50f86c31",
   "metadata": {},
   "outputs": [
    {
     "data": {
      "text/plain": [
       "'ham'"
      ]
     },
     "execution_count": 17,
     "metadata": {},
     "output_type": "execute_result"
    }
   ],
   "source": [
    "first({'ham': 1, 'ls': 2, 'usi': 3})"
   ]
  },
  {
   "cell_type": "code",
   "execution_count": 18,
   "id": "c121f837",
   "metadata": {},
   "outputs": [
    {
     "data": {
      "text/plain": [
       "'Your iterable is empty :('"
      ]
     },
     "execution_count": 18,
     "metadata": {},
     "output_type": "execute_result"
    }
   ],
   "source": [
    "first([])"
   ]
  },
  {
   "cell_type": "markdown",
   "id": "2056f730",
   "metadata": {},
   "source": [
    "## Generators functions\n",
    "\n",
    "* Iterables defined by functions\n",
    "* Lazy evaluation, i.e, only compute the next value on demand\n",
    "* Can model infinite sequences of values (e.g. data from sensor or log files)\n",
    "* Can be used together to compose pipelines\n",
    "\n",
    "Generator function:\n",
    "\n",
    "> A function that uses `yield` keyword at least once in its definition.\n",
    "\n",
    "They may include return statements."
   ]
  },
  {
   "cell_type": "code",
   "execution_count": 19,
   "id": "9f9ddeed",
   "metadata": {},
   "outputs": [],
   "source": [
    "# Example\n",
    "def gen123():\n",
    "    yield 1\n",
    "    yield 2\n",
    "    yield 3"
   ]
  },
  {
   "cell_type": "code",
   "execution_count": 21,
   "id": "04a301d5",
   "metadata": {},
   "outputs": [
    {
     "data": {
      "text/plain": [
       "<generator object gen123 at 0x00000268E518CA50>"
      ]
     },
     "execution_count": 21,
     "metadata": {},
     "output_type": "execute_result"
    }
   ],
   "source": [
    "g = gen123()\n",
    "g"
   ]
  },
  {
   "cell_type": "markdown",
   "id": "c8e34a34",
   "metadata": {},
   "source": [
    "A generator object is an iterator. So we can use the iterator protocol to iterate over it."
   ]
  },
  {
   "cell_type": "code",
   "execution_count": 22,
   "id": "6c83759d",
   "metadata": {},
   "outputs": [
    {
     "data": {
      "text/plain": [
       "1"
      ]
     },
     "execution_count": 22,
     "metadata": {},
     "output_type": "execute_result"
    }
   ],
   "source": [
    "next(g)"
   ]
  },
  {
   "cell_type": "code",
   "execution_count": 23,
   "id": "15f0a644",
   "metadata": {},
   "outputs": [
    {
     "data": {
      "text/plain": [
       "2"
      ]
     },
     "execution_count": 23,
     "metadata": {},
     "output_type": "execute_result"
    }
   ],
   "source": [
    "next(g)"
   ]
  },
  {
   "cell_type": "code",
   "execution_count": 24,
   "id": "a1781187",
   "metadata": {},
   "outputs": [
    {
     "data": {
      "text/plain": [
       "3"
      ]
     },
     "execution_count": 24,
     "metadata": {},
     "output_type": "execute_result"
    }
   ],
   "source": [
    "next(g)"
   ]
  },
  {
   "cell_type": "code",
   "execution_count": 25,
   "id": "80efb62e",
   "metadata": {},
   "outputs": [
    {
     "ename": "StopIteration",
     "evalue": "",
     "output_type": "error",
     "traceback": [
      "\u001b[1;31m---------------------------------------------------------------------------\u001b[0m",
      "\u001b[1;31mStopIteration\u001b[0m                             Traceback (most recent call last)",
      "\u001b[1;32m<ipython-input-25-e734f8aca5ac>\u001b[0m in \u001b[0;36m<module>\u001b[1;34m\u001b[0m\n\u001b[1;32m----> 1\u001b[1;33m \u001b[0mnext\u001b[0m\u001b[1;33m(\u001b[0m\u001b[0mg\u001b[0m\u001b[1;33m)\u001b[0m\u001b[1;33m\u001b[0m\u001b[1;33m\u001b[0m\u001b[0m\n\u001b[0m",
      "\u001b[1;31mStopIteration\u001b[0m: "
     ]
    }
   ],
   "source": [
    "next(g)"
   ]
  },
  {
   "cell_type": "markdown",
   "id": "895e46cd",
   "metadata": {},
   "source": [
    "It works just like any other iterator.\n",
    "\n",
    "**As iterators must also be iterables, generators can be used in all the usual Python constructs which expects iterable objects, such as for loops.**"
   ]
  },
  {
   "cell_type": "code",
   "execution_count": 26,
   "id": "048d705e",
   "metadata": {},
   "outputs": [
    {
     "name": "stdout",
     "output_type": "stream",
     "text": [
      "1\n",
      "2\n",
      "3\n"
     ]
    }
   ],
   "source": [
    "for v in gen123():\n",
    "    print(v)"
   ]
  },
  {
   "cell_type": "markdown",
   "id": "be611620",
   "metadata": {},
   "source": [
    "## Maintaining States in Generators"
   ]
  },
  {
   "cell_type": "code",
   "execution_count": 40,
   "id": "6f7d1f86",
   "metadata": {},
   "outputs": [],
   "source": [
    "def take(num_elem, iterable):\n",
    "    counter = 0\n",
    "    for item in iterable:\n",
    "        print('take :: counter:', counter)\n",
    "        if counter == num_elem:\n",
    "            return\n",
    "        counter += 1\n",
    "        yield item"
   ]
  },
  {
   "cell_type": "code",
   "execution_count": 41,
   "id": "3e5fa2e8",
   "metadata": {},
   "outputs": [],
   "source": [
    "def distinct(iterable):\n",
    "    seen = set()\n",
    "    for item in iterable:\n",
    "        print('distinct :: item:', item)\n",
    "        if item in seen:\n",
    "            continue\n",
    "        yield item\n",
    "        seen.add(item)"
   ]
  },
  {
   "cell_type": "code",
   "execution_count": 48,
   "id": "e10988e8",
   "metadata": {},
   "outputs": [],
   "source": [
    "# Using two generators to find 3 first distinct elements in iterable\n",
    "def run_pipeline():\n",
    "    items = [3, 3, 6, 6, 6, 2, 1, 1]\n",
    "    for unique_item in take(3, distinct(items)):\n",
    "        print(f'\\n{unique_item}\\n')"
   ]
  },
  {
   "cell_type": "code",
   "execution_count": 49,
   "id": "6003b3f3",
   "metadata": {},
   "outputs": [
    {
     "name": "stdout",
     "output_type": "stream",
     "text": [
      "distinct :: item: 3\n",
      "take :: counter: 0\n",
      "\n",
      "3\n",
      "\n",
      "distinct :: item: 3\n",
      "distinct :: item: 6\n",
      "take :: counter: 1\n",
      "\n",
      "6\n",
      "\n",
      "distinct :: item: 6\n",
      "distinct :: item: 6\n",
      "distinct :: item: 2\n",
      "take :: counter: 2\n",
      "\n",
      "2\n",
      "\n",
      "distinct :: item: 1\n",
      "take :: counter: 3\n"
     ]
    }
   ],
   "source": [
    "run_pipeline()"
   ]
  },
  {
   "cell_type": "code",
   "execution_count": null,
   "id": "00ad8b83",
   "metadata": {},
   "outputs": [],
   "source": []
  }
 ],
 "metadata": {
  "kernelspec": {
   "display_name": "venv",
   "language": "python",
   "name": "venv"
  },
  "language_info": {
   "codemirror_mode": {
    "name": "ipython",
    "version": 3
   },
   "file_extension": ".py",
   "mimetype": "text/x-python",
   "name": "python",
   "nbconvert_exporter": "python",
   "pygments_lexer": "ipython3",
   "version": "3.9.2"
  }
 },
 "nbformat": 4,
 "nbformat_minor": 5
}
