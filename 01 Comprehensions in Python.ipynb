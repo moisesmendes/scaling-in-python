{
 "cells": [
  {
   "cell_type": "markdown",
   "id": "616f1c3e",
   "metadata": {},
   "source": [
    "### List comprehension"
   ]
  },
  {
   "cell_type": "code",
   "execution_count": 2,
   "id": "9b0c9bcd",
   "metadata": {},
   "outputs": [
    {
     "name": "stdout",
     "output_type": "stream",
     "text": [
      "['Here', 'we', 'have', 'a', 'large', 'sentence', 'that', 'will', 'be', 'splitted', 'into', 'words.']\n"
     ]
    }
   ],
   "source": [
    "words = \"Here we have a large sentence that will be splitted into words.\".split()\n",
    "print(words)"
   ]
  },
  {
   "cell_type": "code",
   "execution_count": 3,
   "id": "fd64e439",
   "metadata": {},
   "outputs": [
    {
     "data": {
      "text/plain": [
       "[4, 2, 4, 1, 5, 8, 4, 4, 2, 8, 4, 6]"
      ]
     },
     "execution_count": 3,
     "metadata": {},
     "output_type": "execute_result"
    }
   ],
   "source": [
    "[len(word) for word in words]"
   ]
  },
  {
   "cell_type": "markdown",
   "id": "af4c3e11",
   "metadata": {},
   "source": [
    "### Set comprehension"
   ]
  },
  {
   "cell_type": "code",
   "execution_count": 4,
   "id": "cb963029",
   "metadata": {},
   "outputs": [
    {
     "data": {
      "text/plain": [
       "{1, 2, 4, 5, 6, 8}"
      ]
     },
     "execution_count": 4,
     "metadata": {},
     "output_type": "execute_result"
    }
   ],
   "source": [
    "# Finding the unique lenght values for all the words\n",
    "{len(word) for word in words}"
   ]
  },
  {
   "cell_type": "markdown",
   "id": "467659e2",
   "metadata": {},
   "source": [
    "### Dict comprehension"
   ]
  },
  {
   "cell_type": "code",
   "execution_count": 5,
   "id": "e0183238",
   "metadata": {},
   "outputs": [],
   "source": [
    "name_age = {'Joanne': 25, 'Francinne': 38, 'Aisha': 30}"
   ]
  },
  {
   "cell_type": "code",
   "execution_count": 6,
   "id": "9fe443a6",
   "metadata": {},
   "outputs": [
    {
     "data": {
      "text/plain": [
       "{'Joanne': 6, 'Francinne': 9, 'Aisha': 5}"
      ]
     },
     "execution_count": 6,
     "metadata": {},
     "output_type": "execute_result"
    }
   ],
   "source": [
    "# Remember that if not indicated, iteration is by keys of dict\n",
    "{name: len(name) for name in name_age}"
   ]
  },
  {
   "cell_type": "code",
   "execution_count": 7,
   "id": "1edeed21",
   "metadata": {},
   "outputs": [
    {
     "data": {
      "text/plain": [
       "{25: 'Joanne', 38: 'Francinne', 30: 'Aisha'}"
      ]
     },
     "execution_count": 7,
     "metadata": {},
     "output_type": "execute_result"
    }
   ],
   "source": [
    "# We can get a tuple with pairs (key, value)\n",
    "inverted = {age: name for name, age in name_age.items()}\n",
    "inverted"
   ]
  },
  {
   "cell_type": "code",
   "execution_count": 11,
   "id": "664808a6",
   "metadata": {},
   "outputs": [
    {
     "data": {
      "text/plain": [
       "{'j': 1996, 'f': 1983, 'a': 1991}"
      ]
     },
     "execution_count": 11,
     "metadata": {},
     "output_type": "execute_result"
    }
   ],
   "source": [
    "# We can apply expressions to both key and value\n",
    "current_year = 2021\n",
    "{name[0].lower(): current_year-age for name, age in name_age.items()}"
   ]
  },
  {
   "cell_type": "markdown",
   "id": "26f31815",
   "metadata": {},
   "source": [
    "### Filtering comprehensions"
   ]
  },
  {
   "cell_type": "code",
   "execution_count": 12,
   "id": "d2139ecf",
   "metadata": {},
   "outputs": [],
   "source": [
    "weather_measures = [-10, 2, -3, 4, 12, 13, 23, 21, 10, -5]"
   ]
  },
  {
   "cell_type": "code",
   "execution_count": 13,
   "id": "8613e752",
   "metadata": {},
   "outputs": [
    {
     "data": {
      "text/plain": [
       "[2, 4, 12, 13, 23, 21, 10]"
      ]
     },
     "execution_count": 13,
     "metadata": {},
     "output_type": "execute_result"
    }
   ],
   "source": [
    "# positive measures\n",
    "[m for m in weather_measures if m >= 0]"
   ]
  },
  {
   "cell_type": "code",
   "execution_count": 15,
   "id": "e3152ed2",
   "metadata": {},
   "outputs": [
    {
     "data": {
      "text/plain": [
       "[-10, -3, -5]"
      ]
     },
     "execution_count": 15,
     "metadata": {},
     "output_type": "execute_result"
    }
   ],
   "source": [
    "# negative measures\n",
    "[m for m in weather_measures if m < 0]"
   ]
  },
  {
   "cell_type": "code",
   "execution_count": 18,
   "id": "7d1292a0",
   "metadata": {},
   "outputs": [
    {
     "data": {
      "text/plain": [
       "{'2 C': '-16.67 F',\n",
       " '4 C': '-15.56 F',\n",
       " '12 C': '-11.11 F',\n",
       " '13 C': '-10.56 F',\n",
       " '23 C': '-5.0 F',\n",
       " '21 C': '-6.11 F',\n",
       " '10 C': '-12.22 F'}"
      ]
     },
     "execution_count": 18,
     "metadata": {},
     "output_type": "execute_result"
    }
   ],
   "source": [
    "# combining condition with applying transformation\n",
    "to_celsius = lambda fahrenheit: round((fahrenheit - 32) * 5.0/9.0, 2)\n",
    "{str(m) + ' C': str(to_celsius(m)) + ' F' for m in weather_measures if m >= 0}"
   ]
  },
  {
   "cell_type": "code",
   "execution_count": null,
   "id": "5b7ba3c0",
   "metadata": {},
   "outputs": [],
   "source": []
  }
 ],
 "metadata": {
  "kernelspec": {
   "display_name": "venv",
   "language": "python",
   "name": "venv"
  },
  "language_info": {
   "codemirror_mode": {
    "name": "ipython",
    "version": 3
   },
   "file_extension": ".py",
   "mimetype": "text/x-python",
   "name": "python",
   "nbconvert_exporter": "python",
   "pygments_lexer": "ipython3",
   "version": "3.9.2"
  }
 },
 "nbformat": 4,
 "nbformat_minor": 5
}
